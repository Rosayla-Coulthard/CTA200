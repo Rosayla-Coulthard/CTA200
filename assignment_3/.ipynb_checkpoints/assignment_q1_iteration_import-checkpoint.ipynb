{
 "cells": [
  {
   "cell_type": "code",
   "execution_count": null,
   "id": "365ab5e7",
   "metadata": {},
   "outputs": [],
   "source": [
    "import numpy as np\n",
    "\n",
    "def iterate(start, stop, step):\n",
    "    conv = []\n",
    "    div = []\n",
    "    loops = []\n",
    "    for x in np.arange(start, stop, step):\n",
    "        for y in np.arange(start, stop, step):\n",
    "            c = x + 1j * y\n",
    "            z = 0\n",
    "            loop = 0\n",
    "        \n",
    "            for _ in range(10):\n",
    "                z = z ** 2 + c\n",
    "                loop += 1\n",
    "            \n",
    "                if abs(z) > 2:\n",
    "                    div.append(c)\n",
    "                    loops.append(loop)\n",
    "                    break\n",
    "            else:\n",
    "                conv.append(c)\n",
    "    return conv, div, loops"
   ]
  }
 ],
 "metadata": {
  "kernelspec": {
   "display_name": "Python 3 (ipykernel)",
   "language": "python",
   "name": "python3"
  },
  "language_info": {
   "codemirror_mode": {
    "name": "ipython",
    "version": 3
   },
   "file_extension": ".py",
   "mimetype": "text/x-python",
   "name": "python",
   "nbconvert_exporter": "python",
   "pygments_lexer": "ipython3",
   "version": "3.10.2"
  }
 },
 "nbformat": 4,
 "nbformat_minor": 5
}
