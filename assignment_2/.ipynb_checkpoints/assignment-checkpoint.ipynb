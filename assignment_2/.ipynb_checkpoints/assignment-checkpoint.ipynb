{
 "cells": [
  {
   "cell_type": "markdown",
   "id": "d4997fd7",
   "metadata": {},
   "source": [
    "# Assignment 2\n",
    "\n",
    "By: Rosayla Coulthard\n",
    "\n",
    "Due: May 11 2024\n",
    "\n",
    "### Part 1\n",
    "Write a python function for the function $f(x) = x^3 - x^2 - 1$ \n",
    "Also, write a function for it's derivative (you will have to work it out yourself), you can call these functions f and df."
   ]
  },
  {
   "cell_type": "code",
   "execution_count": 1,
   "id": "0efc4c99",
   "metadata": {},
   "outputs": [],
   "source": [
    "def f(x: float) -> float:\n",
    "    \"\"\"The function f(x)\n",
    "    \n",
    "    Parameters:\n",
    "    x ------------ array-like numerical input value\n",
    "    \n",
    "    Returns:\n",
    "    f(x) --------- array-like numerical output value, the result of applying the function to x, the input\n",
    "    \"\"\"\n",
    "    return x ** 3 - x ** 2 - 1\n",
    "\n",
    "\n",
    "def df(x: float) -> float:\n",
    "    \"\"\"The derivative of the function f(x)\n",
    "    \n",
    "    Parameters:\n",
    "    x ------------ array-like numerical input value\n",
    "    \n",
    "    Returns:\n",
    "    df(x) --------- array-like numerical output value, the result of applying the derivative of the function \n",
    "    f to x, the input\n",
    "    \"\"\"\n",
    "    return 3 * (x ** 2) - 2 * x"
   ]
  },
  {
   "cell_type": "markdown",
   "id": "3f4e5df1",
   "metadata": {},
   "source": [
    "### Part 2\n",
    "Write a function newton(f, df, x0, epsilon=1e-6, max_iter=30) which performs a Newton Iteration of the function f with derivative df.\n",
    "\n",
    "Newton iteration finds the root ($x_n$ such that $f(x_n) = 0$).\n",
    "\n",
    "To do this, implement the recursive expression $x_n+1 = x_n - \\frac{f(x_n)}{f'(x_n)}$ using a loop.\n",
    "\n",
    "The iteration should stop either when max_iter is exceeded or when \n",
    " $|f(x_n)|$ < epsilon.\n",
    "\n",
    "If the method succeeds, (ie $|f(x_n)|$ < epsilon), then your function should print \"Found root in <N> iterations\" and should return the value of $x_n$. Otherwise, it should print \"Iteration failed\" and return None.\n",
    "\n",
    "Make sure that your function is documented with Numpy style documentation."
   ]
  },
  {
   "cell_type": "code",
   "execution_count": 2,
   "id": "7801df72",
   "metadata": {},
   "outputs": [],
   "source": [
    "def newton(f_x, df_x, x0, epsilon=1e-6, max_iter=30) -> float or None:\n",
    "    \"\"\"\n",
    "    Performs a Newton iteration of the function f starting at x0.\n",
    "    Returns the x value of the root if it exists, otherwise returns None.\n",
    "    \n",
    "    Parameters:\n",
    "    f_x ----------- function that applies some function f(x)\n",
    "    df_x ---------- function that is the derivative of the function f(X)\n",
    "    x0 ------------ the starting value for x\n",
    "    epsilon ------- number indicating how close the current evaluated f(x) value can be to 0\n",
    "    max_iter ------ number indicating the number of times the iteration will be performed\n",
    "    \n",
    "    Returns:\n",
    "    curr_x -------- array-like float that is the root as produced by the Newton iteration\n",
    "    Alternatively returns None\n",
    "\n",
    "    >>> newton(f, df, -10)\n",
    "    Found root in 26 iterations\n",
    "    1.4655712376690906\n",
    "\n",
    "    >>> newton(f, df, -1000)\n",
    "    Iteration failed\n",
    "\n",
    "    >>> newton(f, df, 1.4655712)\n",
    "    Found root in 0 iterations\n",
    "    1.4655712\n",
    "\n",
    "    \"\"\"\n",
    "    i = 0\n",
    "    curr_x = x0\n",
    "    while i < max_iter and abs(f_x(curr_x)) >= epsilon:\n",
    "        curr_x = curr_x - (f_x(curr_x) / df_x(curr_x))\n",
    "        i += 1\n",
    "    if abs(f_x(curr_x)) < epsilon:\n",
    "        print(\"Found root in \", i, \" iterations\")\n",
    "        return curr_x\n",
    "    print(\"Iteration failed\")\n",
    "    return None"
   ]
  },
  {
   "cell_type": "markdown",
   "id": "2fbc6587",
   "metadata": {},
   "source": [
    "### Part 3\n",
    "Try out your function with the function you defined in part 1. You can experiment with setting $x_0$ differently (show at least two examples of $x_0$ in the notebook). Leave epsilon and max_iter as the default values specified in part 2.\n",
    "\n",
    "Try reducing epsilon to 1e-8. Does it still work? If so, how many more iterations does it take to converge.\n",
    "\n",
    "\n",
    "Some examples (also located in docstring):"
   ]
  },
  {
   "cell_type": "code",
   "execution_count": null,
   "id": "a1754f4c",
   "metadata": {},
   "outputs": [],
   "source": [
    "newton(f, df, -10)"
   ]
  },
  {
   "cell_type": "code",
   "execution_count": null,
   "id": "6b772cb0",
   "metadata": {},
   "outputs": [],
   "source": [
    "newton(f, df, -1000)"
   ]
  },
  {
   "cell_type": "code",
   "execution_count": null,
   "id": "8b844482",
   "metadata": {
    "scrolled": true
   },
   "outputs": [],
   "source": [
    "newton(f, df, 1.4655712)"
   ]
  },
  {
   "cell_type": "markdown",
   "id": "c6eb7cd0",
   "metadata": {},
   "source": [
    "If we change epsilon to 1e-8, we will require a greater precision to consider our found value zero. This should work but take more iterations, usually 1 or 0 more iterations. For the examples we have chosen, we can modify the code above and run the values to see the results.\n",
    "- Example 1 actually requires one more iteration when we increase the precision dictated by epsilon\n",
    "- Example 2 still results in a failed iteration\n",
    "- Example 3 requires one more iteration as well."
   ]
  }
 ],
 "metadata": {
  "kernelspec": {
   "display_name": "Python 3 (ipykernel)",
   "language": "python",
   "name": "python3"
  },
  "language_info": {
   "codemirror_mode": {
    "name": "ipython",
    "version": 3
   },
   "file_extension": ".py",
   "mimetype": "text/x-python",
   "name": "python",
   "nbconvert_exporter": "python",
   "pygments_lexer": "ipython3",
   "version": "3.10.2"
  }
 },
 "nbformat": 4,
 "nbformat_minor": 5
}
